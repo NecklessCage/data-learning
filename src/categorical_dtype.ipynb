{
 "cells": [
  {
   "cell_type": "code",
   "execution_count": 3,
   "metadata": {},
   "outputs": [],
   "source": [
    "import pandas as pd\n",
    "from sys import getsizeof"
   ]
  },
  {
   "cell_type": "code",
   "execution_count": 9,
   "metadata": {},
   "outputs": [
    {
     "name": "stdout",
     "output_type": "stream",
     "text": [
      "98% reduction in size.\n"
     ]
    }
   ],
   "source": [
    "df = pd.DataFrame({'A': ['a', 'b', 'c', 'a'] * 1_000_000})\n",
    "before = getsizeof(df)\n",
    "df['A'] = df['A'].astype('category')\n",
    "after = getsizeof(df)\n",
    "print(f'{int(100 * (before - after) / before)}% reduction in size.')"
   ]
  }
 ],
 "metadata": {
  "kernelspec": {
   "display_name": "Python 3.10.8 ('learning')",
   "language": "python",
   "name": "python3"
  },
  "language_info": {
   "codemirror_mode": {
    "name": "ipython",
    "version": 3
   },
   "file_extension": ".py",
   "mimetype": "text/x-python",
   "name": "python",
   "nbconvert_exporter": "python",
   "pygments_lexer": "ipython3",
   "version": "3.10.8"
  },
  "orig_nbformat": 4,
  "vscode": {
   "interpreter": {
    "hash": "1691c36a3d40996cb3febee86819cad08ac36e49ce1478a16da0923dd0bc2683"
   }
  }
 },
 "nbformat": 4,
 "nbformat_minor": 2
}
