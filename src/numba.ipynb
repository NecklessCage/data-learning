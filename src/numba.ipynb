{
 "cells": [
  {
   "cell_type": "code",
   "execution_count": 11,
   "metadata": {},
   "outputs": [],
   "source": [
    "import numpy as np\n",
    "from numba import jit, njit\n",
    "import pandas as pd\n",
    "\n",
    "M = 1_000_000"
   ]
  },
  {
   "cell_type": "markdown",
   "metadata": {},
   "source": [
    "# Numpy"
   ]
  },
  {
   "cell_type": "code",
   "execution_count": 8,
   "metadata": {},
   "outputs": [
    {
     "name": "stdout",
     "output_type": "stream",
     "text": [
      "73.4 ms ± 2.01 ms per loop (mean ± std. dev. of 7 runs, 10 loops each)\n"
     ]
    }
   ],
   "source": [
    "x = np.array([1, 2, 3] * M)\n",
    "\n",
    "\n",
    "def ident_parallel(x):\n",
    "    return np.cos(x) ** 2 + np.sin(x) ** 2\n",
    "\n",
    "%timeit ident_parallel(x)"
   ]
  },
  {
   "cell_type": "code",
   "execution_count": 9,
   "metadata": {},
   "outputs": [
    {
     "name": "stdout",
     "output_type": "stream",
     "text": [
      "38.5 ms ± 331 µs per loop (mean ± std. dev. of 7 runs, 10 loops each)\n"
     ]
    }
   ],
   "source": [
    "x = np.array([1, 2, 3] * M)\n",
    "\n",
    "@jit\n",
    "def ident_parallel(x):\n",
    "    return np.cos(x) ** 2 + np.sin(x) ** 2\n",
    "\n",
    "%timeit ident_parallel(x)"
   ]
  },
  {
   "cell_type": "code",
   "execution_count": 10,
   "metadata": {},
   "outputs": [
    {
     "name": "stdout",
     "output_type": "stream",
     "text": [
      "38.1 ms ± 349 µs per loop (mean ± std. dev. of 7 runs, 10 loops each)\n"
     ]
    }
   ],
   "source": [
    "x = np.array([1, 2, 3] * M)\n",
    "\n",
    "@njit\n",
    "def ident_parallel(x):\n",
    "    return np.cos(x) ** 2 + np.sin(x) ** 2\n",
    "\n",
    "%timeit ident_parallel(x)"
   ]
  },
  {
   "cell_type": "markdown",
   "metadata": {},
   "source": [
    "# Numpy String"
   ]
  },
  {
   "cell_type": "code",
   "execution_count": 18,
   "metadata": {},
   "outputs": [
    {
     "name": "stdout",
     "output_type": "stream",
     "text": [
      "940 ms ± 136 ms per loop (mean ± std. dev. of 7 runs, 1 loop each)\n"
     ]
    }
   ],
   "source": [
    "x = np.array(['i', 'am', 'loaf'] * M)\n",
    "\n",
    "def how(x):\n",
    "    x = [f'{b}_x' for b in x]\n",
    "    \n",
    "%timeit how(x)"
   ]
  },
  {
   "cell_type": "code",
   "execution_count": 19,
   "metadata": {},
   "outputs": [
    {
     "name": "stdout",
     "output_type": "stream",
     "text": [
      "400 ms ± 22.4 ms per loop (mean ± std. dev. of 7 runs, 1 loop each)\n"
     ]
    }
   ],
   "source": [
    "x = np.array(['i', 'am', 'loaf'] * M)\n",
    "\n",
    "@jit\n",
    "def how(x):\n",
    "    x = [f'{b}_x' for b in x]\n",
    "    \n",
    "%timeit how(x)"
   ]
  },
  {
   "cell_type": "code",
   "execution_count": 20,
   "metadata": {},
   "outputs": [
    {
     "name": "stdout",
     "output_type": "stream",
     "text": [
      "375 ms ± 8.73 ms per loop (mean ± std. dev. of 7 runs, 1 loop each)\n"
     ]
    }
   ],
   "source": [
    "x = np.array(['i', 'am', 'loaf'] * M)\n",
    "\n",
    "@njit\n",
    "def how(x):\n",
    "    x = [f'{b}_x' for b in x]\n",
    "    \n",
    "%timeit how(x)"
   ]
  },
  {
   "cell_type": "code",
   "execution_count": 21,
   "metadata": {},
   "outputs": [
    {
     "name": "stderr",
     "output_type": "stream",
     "text": [
      "/home/htetaung04/miniconda3/envs/learning/lib/python3.10/site-packages/numba/core/typed_passes.py:329: NumbaPerformanceWarning: \n",
      "The keyword argument 'parallel=True' was specified but no transformation for parallel execution was possible.\n",
      "\n",
      "To find out why, try turning on parallel diagnostics, see https://numba.readthedocs.io/en/stable/user/parallel.html#diagnostics for help.\n",
      "\n",
      "File \"../../../../../tmp/ipykernel_1628/2180706367.py\", line 3:\n",
      "<source missing, REPL/exec in use?>\n",
      "\n",
      "  warnings.warn(errors.NumbaPerformanceWarning(msg,\n"
     ]
    },
    {
     "name": "stdout",
     "output_type": "stream",
     "text": [
      "371 ms ± 13.4 ms per loop (mean ± std. dev. of 7 runs, 1 loop each)\n"
     ]
    }
   ],
   "source": [
    "x = np.array(['i', 'am', 'loaf'] * M)\n",
    "\n",
    "@njit(parallel = True)\n",
    "def how(x):\n",
    "    x = [f'{b}_x' for b in x]\n",
    "    \n",
    "%timeit how(x)"
   ]
  },
  {
   "cell_type": "markdown",
   "metadata": {},
   "source": [
    "# Pandas"
   ]
  },
  {
   "cell_type": "code",
   "execution_count": 12,
   "metadata": {},
   "outputs": [],
   "source": [
    "df = pd.DataFrame({\n",
    "    'a': [1, 2, 3] * M,\n",
    "    'b': ['i', 'am', 'loaf'] * M\n",
    "})"
   ]
  },
  {
   "cell_type": "code",
   "execution_count": 13,
   "metadata": {},
   "outputs": [
    {
     "name": "stdout",
     "output_type": "stream",
     "text": [
      "703 ms ± 81.5 ms per loop (mean ± std. dev. of 7 runs, 1 loop each)\n",
      "591 ms ± 107 ms per loop (mean ± std. dev. of 7 runs, 1 loop each)\n"
     ]
    }
   ],
   "source": [
    "def who(df):\n",
    "    df['a'] = [a*100 for a in df.a]\n",
    "    \n",
    "def how(df):\n",
    "    df['b'] = [f'{b}_x' for b in df.b]\n",
    "    \n",
    "%timeit who(df)\n",
    "%timeit how(df)"
   ]
  },
  {
   "cell_type": "code",
   "execution_count": 14,
   "metadata": {},
   "outputs": [
    {
     "name": "stderr",
     "output_type": "stream",
     "text": [
      "/tmp/ipykernel_1628/4232615621.py:1: NumbaWarning: \n",
      "Compilation is falling back to object mode WITH looplifting enabled because Function \"who\" failed type inference due to: non-precise type pyobject\n",
      "During: typing of argument at /tmp/ipykernel_1628/4232615621.py (3)\n",
      "\n",
      "File \"../../../../../tmp/ipykernel_1628/4232615621.py\", line 3:\n",
      "<source missing, REPL/exec in use?>\n",
      "\n",
      "  @jit\n",
      "/home/htetaung04/miniconda3/envs/learning/lib/python3.10/site-packages/numba/core/object_mode_passes.py:151: NumbaWarning: Function \"who\" was compiled in object mode without forceobj=True.\n",
      "\n",
      "File \"../../../../../tmp/ipykernel_1628/4232615621.py\", line 1:\n",
      "<source missing, REPL/exec in use?>\n",
      "\n",
      "  warnings.warn(errors.NumbaWarning(warn_msg,\n",
      "/home/htetaung04/miniconda3/envs/learning/lib/python3.10/site-packages/numba/core/object_mode_passes.py:161: NumbaDeprecationWarning: \n",
      "Fall-back from the nopython compilation path to the object mode compilation path has been detected, this is deprecated behaviour.\n",
      "\n",
      "For more information visit https://numba.readthedocs.io/en/stable/reference/deprecation.html#deprecation-of-object-mode-fall-back-behaviour-when-using-jit\n",
      "\n",
      "File \"../../../../../tmp/ipykernel_1628/4232615621.py\", line 1:\n",
      "<source missing, REPL/exec in use?>\n",
      "\n",
      "  warnings.warn(errors.NumbaDeprecationWarning(msg,\n"
     ]
    },
    {
     "name": "stdout",
     "output_type": "stream",
     "text": [
      "623 ms ± 27.4 ms per loop (mean ± std. dev. of 7 runs, 1 loop each)\n"
     ]
    },
    {
     "name": "stderr",
     "output_type": "stream",
     "text": [
      "/tmp/ipykernel_1628/4232615621.py:4: NumbaWarning: \n",
      "Compilation is falling back to object mode WITH looplifting enabled because Function \"how\" failed type inference due to: non-precise type pyobject\n",
      "During: typing of argument at /tmp/ipykernel_1628/4232615621.py (6)\n",
      "\n",
      "File \"../../../../../tmp/ipykernel_1628/4232615621.py\", line 6:\n",
      "<source missing, REPL/exec in use?>\n",
      "\n",
      "  @jit\n",
      "/home/htetaung04/miniconda3/envs/learning/lib/python3.10/site-packages/numba/core/object_mode_passes.py:151: NumbaWarning: Function \"how\" was compiled in object mode without forceobj=True.\n",
      "\n",
      "File \"../../../../../tmp/ipykernel_1628/4232615621.py\", line 4:\n",
      "<source missing, REPL/exec in use?>\n",
      "\n",
      "  warnings.warn(errors.NumbaWarning(warn_msg,\n",
      "/home/htetaung04/miniconda3/envs/learning/lib/python3.10/site-packages/numba/core/object_mode_passes.py:161: NumbaDeprecationWarning: \n",
      "Fall-back from the nopython compilation path to the object mode compilation path has been detected, this is deprecated behaviour.\n",
      "\n",
      "For more information visit https://numba.readthedocs.io/en/stable/reference/deprecation.html#deprecation-of-object-mode-fall-back-behaviour-when-using-jit\n",
      "\n",
      "File \"../../../../../tmp/ipykernel_1628/4232615621.py\", line 4:\n",
      "<source missing, REPL/exec in use?>\n",
      "\n",
      "  warnings.warn(errors.NumbaDeprecationWarning(msg,\n"
     ]
    },
    {
     "name": "stdout",
     "output_type": "stream",
     "text": [
      "1.03 s ± 40 ms per loop (mean ± std. dev. of 7 runs, 1 loop each)\n"
     ]
    }
   ],
   "source": [
    "@jit\n",
    "def who(df):\n",
    "    df['a'] = [a*100 for a in df.a]\n",
    "@jit    \n",
    "def how(df):\n",
    "    df['b'] = [f'{b}_x' for b in df.b]\n",
    "    \n",
    "%timeit who(df)\n",
    "%timeit how(df)"
   ]
  },
  {
   "cell_type": "code",
   "execution_count": 16,
   "metadata": {},
   "outputs": [
    {
     "name": "stderr",
     "output_type": "stream",
     "text": [
      "/tmp/ipykernel_1628/475985427.py:1: NumbaWarning: \n",
      "Compilation is falling back to object mode WITH looplifting enabled because Function \"who\" failed type inference due to: non-precise type pyobject\n",
      "During: typing of argument at /tmp/ipykernel_1628/475985427.py (3)\n",
      "\n",
      "File \"../../../../../tmp/ipykernel_1628/475985427.py\", line 3:\n",
      "<source missing, REPL/exec in use?>\n",
      "\n",
      "  @jit(parallel=True)\n",
      "/home/htetaung04/miniconda3/envs/learning/lib/python3.10/site-packages/numba/core/object_mode_passes.py:151: NumbaWarning: Function \"who\" was compiled in object mode without forceobj=True.\n",
      "\n",
      "File \"../../../../../tmp/ipykernel_1628/475985427.py\", line 1:\n",
      "<source missing, REPL/exec in use?>\n",
      "\n",
      "  warnings.warn(errors.NumbaWarning(warn_msg,\n",
      "/home/htetaung04/miniconda3/envs/learning/lib/python3.10/site-packages/numba/core/object_mode_passes.py:161: NumbaDeprecationWarning: \n",
      "Fall-back from the nopython compilation path to the object mode compilation path has been detected, this is deprecated behaviour.\n",
      "\n",
      "For more information visit https://numba.readthedocs.io/en/stable/reference/deprecation.html#deprecation-of-object-mode-fall-back-behaviour-when-using-jit\n",
      "\n",
      "File \"../../../../../tmp/ipykernel_1628/475985427.py\", line 1:\n",
      "<source missing, REPL/exec in use?>\n",
      "\n",
      "  warnings.warn(errors.NumbaDeprecationWarning(msg,\n"
     ]
    },
    {
     "name": "stdout",
     "output_type": "stream",
     "text": [
      "614 ms ± 15.4 ms per loop (mean ± std. dev. of 7 runs, 1 loop each)\n"
     ]
    },
    {
     "name": "stderr",
     "output_type": "stream",
     "text": [
      "/tmp/ipykernel_1628/475985427.py:4: NumbaWarning: \n",
      "Compilation is falling back to object mode WITH looplifting enabled because Function \"how\" failed type inference due to: non-precise type pyobject\n",
      "During: typing of argument at /tmp/ipykernel_1628/475985427.py (6)\n",
      "\n",
      "File \"../../../../../tmp/ipykernel_1628/475985427.py\", line 6:\n",
      "<source missing, REPL/exec in use?>\n",
      "\n",
      "  @jit(parallel=True)\n",
      "/home/htetaung04/miniconda3/envs/learning/lib/python3.10/site-packages/numba/core/object_mode_passes.py:151: NumbaWarning: Function \"how\" was compiled in object mode without forceobj=True.\n",
      "\n",
      "File \"../../../../../tmp/ipykernel_1628/475985427.py\", line 4:\n",
      "<source missing, REPL/exec in use?>\n",
      "\n",
      "  warnings.warn(errors.NumbaWarning(warn_msg,\n",
      "/home/htetaung04/miniconda3/envs/learning/lib/python3.10/site-packages/numba/core/object_mode_passes.py:161: NumbaDeprecationWarning: \n",
      "Fall-back from the nopython compilation path to the object mode compilation path has been detected, this is deprecated behaviour.\n",
      "\n",
      "For more information visit https://numba.readthedocs.io/en/stable/reference/deprecation.html#deprecation-of-object-mode-fall-back-behaviour-when-using-jit\n",
      "\n",
      "File \"../../../../../tmp/ipykernel_1628/475985427.py\", line 4:\n",
      "<source missing, REPL/exec in use?>\n",
      "\n",
      "  warnings.warn(errors.NumbaDeprecationWarning(msg,\n"
     ]
    },
    {
     "name": "stdout",
     "output_type": "stream",
     "text": [
      "1.06 s ± 70.2 ms per loop (mean ± std. dev. of 7 runs, 1 loop each)\n"
     ]
    }
   ],
   "source": [
    "@jit(parallel=True)\n",
    "def who(df):\n",
    "    df['a'] = [a*100 for a in df.a]\n",
    "@jit(parallel=True)\n",
    "def how(df):\n",
    "    df['b'] = [f'{b}_x' for b in df.b]\n",
    "    \n",
    "%timeit who(df)\n",
    "%timeit how(df)"
   ]
  },
  {
   "cell_type": "code",
   "execution_count": null,
   "metadata": {},
   "outputs": [],
   "source": []
  }
 ],
 "metadata": {
  "kernelspec": {
   "display_name": "Python 3.10.8 ('learning')",
   "language": "python",
   "name": "python3"
  },
  "language_info": {
   "codemirror_mode": {
    "name": "ipython",
    "version": 3
   },
   "file_extension": ".py",
   "mimetype": "text/x-python",
   "name": "python",
   "nbconvert_exporter": "python",
   "pygments_lexer": "ipython3",
   "version": "3.10.8"
  },
  "orig_nbformat": 4,
  "vscode": {
   "interpreter": {
    "hash": "1691c36a3d40996cb3febee86819cad08ac36e49ce1478a16da0923dd0bc2683"
   }
  }
 },
 "nbformat": 4,
 "nbformat_minor": 2
}
